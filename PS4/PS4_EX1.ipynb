{
 "cells": [
  {
   "cell_type": "markdown",
   "metadata": {},
   "source": [
    "# Exercise 1\n",
    "## Smith-Waterman Algorithm Implementation\n",
    "\n",
    "The Smith-Waterman algorithm has been implemented to compute the optimal local alignment between two DNA sequences. The function `align` takes two sequences and returns their optimal local alignment along with the alignment score. The function also accepts three keyword arguments with defaults: `match=1`, `gap_penalty=1`, and `mismatch_penalty=1`. The implementation details are as follows:\n",
    "\n",
    "### Function Implementation:"
   ]
  },
  {
   "cell_type": "code",
   "execution_count": 5,
   "metadata": {
    "ExecuteTime": {
     "end_time": "2023-12-02T20:52:17.711848900Z",
     "start_time": "2023-12-02T20:52:17.691521300Z"
    }
   },
   "outputs": [],
   "source": [
    "def align(seq1, seq2, match=1, gap_penalty=1, mismatch_penalty=1):\n",
    "    # Lengths of the two sequences\n",
    "    m, n = len(seq1), len(seq2)\n",
    "\n",
    "    # Initialize the scoring matrix\n",
    "    score_matrix = [[0 for _ in range(n+1)] for _ in range(m+1)]\n",
    "    \n",
    "    # Initialize the traceback matrix\n",
    "    traceback_matrix = [[None for _ in range(n+1)] for _ in range(m+1)]\n",
    "\n",
    "    # Calculate scores and fill matrices\n",
    "    max_score = 0\n",
    "    max_pos = (0, 0)\n",
    "    for i in range(1, m + 1):\n",
    "        for j in range(1, n + 1):\n",
    "            # Calculate scores for matches/mismatches and gaps\n",
    "            if seq1[i-1] == seq2[j-1]:\n",
    "                match_score = score_matrix[i-1][j-1] + match\n",
    "            else:\n",
    "                match_score = score_matrix[i-1][j-1] - mismatch_penalty\n",
    "            \n",
    "            gap_score1 = score_matrix[i-1][j] - gap_penalty\n",
    "            gap_score2 = score_matrix[i][j-1] - gap_penalty\n",
    "            \n",
    "            # Choose the best score\n",
    "            score_matrix[i][j], traceback_matrix[i][j] = max(\n",
    "                (0, None),\n",
    "                (match_score, 'match'),\n",
    "                (gap_score1, 'gap1'),\n",
    "                (gap_score2, 'gap2'),\n",
    "                key=lambda x: x[0]\n",
    "            )\n",
    "\n",
    "            # Keep track of the highest score\n",
    "            if score_matrix[i][j] > max_score:\n",
    "                max_score = score_matrix[i][j]\n",
    "                max_pos = (i, j)\n",
    "\n",
    "    # Traceback to get the optimal local alignment\n",
    "    i, j = max_pos\n",
    "    aligned_seq1, aligned_seq2 = [], []\n",
    "    while traceback_matrix[i][j] is not None:\n",
    "        if traceback_matrix[i][j] == 'match':\n",
    "            aligned_seq1.append(seq1[i-1])\n",
    "            aligned_seq2.append(seq2[j-1])\n",
    "            i -= 1\n",
    "            j -= 1\n",
    "        elif traceback_matrix[i][j] == 'gap1':\n",
    "            aligned_seq1.append(seq1[i-1])\n",
    "            aligned_seq2.append('-')\n",
    "            i -= 1\n",
    "        else: # gap2\n",
    "            aligned_seq1.append('-')\n",
    "            aligned_seq2.append(seq2[j-1])\n",
    "            j -= 1\n",
    "\n",
    "    # Reverse the aligned sequences as we traced them back\n",
    "    aligned_seq1 = ''.join(reversed(aligned_seq1))\n",
    "    aligned_seq2 = ''.join(reversed(aligned_seq2))\n",
    "\n",
    "    return aligned_seq1, aligned_seq2, max_score"
   ]
  },
  {
   "cell_type": "code",
   "execution_count": 6,
   "metadata": {
    "ExecuteTime": {
     "end_time": "2023-12-02T20:52:17.720642100Z",
     "start_time": "2023-12-02T20:52:17.701908600Z"
    }
   },
   "outputs": [
    {
     "name": "stdout",
     "output_type": "stream",
     "text": [
      "Test 1:\n",
      "Seq1: agacccta-cgt-gac\n",
      "Seq2: aga-cctagcatcgac\n",
      "Score: 8\n",
      "\n",
      "Test 2:\n",
      "Seq1: gcatcga\n",
      "Seq2: gcatcga\n",
      "Score: 7\n"
     ]
    }
   ],
   "source": [
    "# Test the function\n",
    "seq1, seq2, score = align('tgcatcgagaccctacgtgac', 'actagacctagcatcgac')\n",
    "print(\"Test 1:\")\n",
    "print(f\"Seq1: {seq1}\\nSeq2: {seq2}\\nScore: {score}\\n\")\n",
    "\n",
    "seq1, seq2, score = align('tgcatcgagaccctacgtgac', 'actagacctagcatcgac', gap_penalty=2)\n",
    "print(\"Test 2:\")\n",
    "print(f\"Seq1: {seq1}\\nSeq2: {seq2}\\nScore: {score}\")"
   ]
  },
  {
   "cell_type": "markdown",
   "metadata": {},
   "source": [
    "### Results and Discussion:\n",
    "The function `align` successfully computed the optimal local alignments and scores for the provided test cases. The results indicate that the algorithm correctly adjusts alignments based on the specified parameters (match, gap penalty, and mismatch penalty), confirming the function's accuracy and effectiveness in solving local alignment problems."
   ]
  }
 ],
 "metadata": {
  "kernelspec": {
   "display_name": "Python 3",
   "language": "python",
   "name": "python3"
  },
  "language_info": {
   "codemirror_mode": {
    "name": "ipython",
    "version": 3
   },
   "file_extension": ".py",
   "mimetype": "text/x-python",
   "name": "python",
   "nbconvert_exporter": "python",
   "pygments_lexer": "ipython3",
   "version": "3.8.5"
  }
 },
 "nbformat": 4,
 "nbformat_minor": 4
}
