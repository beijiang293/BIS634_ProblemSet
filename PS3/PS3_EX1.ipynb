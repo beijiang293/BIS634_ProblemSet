{
 "cells": [
  {
   "cell_type": "markdown",
   "metadata": {},
   "source": [
    "# Exercise 1.\n",
    "# Using Entrez API to Fetch PubMed Data\n",
    "\n",
    "The Entrez API provides programmatic access to various biomedical databases hosted by the National Center for Biotechnology Information (NCBI). In this task, we aim to retrieve the metadata of 1000 Alzheimer's papers and 1000 cancer papers from 2023 available in the PubMed database.\n",
    "\n",
    "## Steps to Achieve the Task:\n",
    "\n",
    "1. **Search for Papers**: Use the Entrez API to search for papers based on specific queries and retrieve their PubMed IDs.\n",
    "2. **Fetch Paper Metadata**: For each retrieved PubMed ID, fetch the paper's metadata.\n",
    "3. **Parse and Save Metadata**: Parse the fetched metadata to extract the required information and save it in a JSON format."
   ]
  },
  {
   "cell_type": "code",
   "execution_count": 1,
   "metadata": {},
   "outputs": [],
   "source": [
    "import requests\n",
    "import time\n",
    "import xml.dom.minidom as m\n",
    "import json"
   ]
  },
  {
   "cell_type": "code",
   "execution_count": 2,
   "metadata": {},
   "outputs": [],
   "source": [
    "def get_id(disease):\n",
    "    r = requests.get(\n",
    "    \"https://eutils.ncbi.nlm.nih.gov/entrez/eutils/esearch.fcgi?\"\n",
    "    f\"db=pubmed&term={disease}+AND+2023[pdat]&retmode=xml&retmax=1000\"\n",
    "  )\n",
    "    time.sleep(1)\n",
    "    if r.status_code == 200:\n",
    "        doc = m.parseString(r.text)\n",
    "        IDs = doc.getElementsByTagName(\"Id\")\n",
    "        pubmed_id = [ID.childNodes[0].data for ID in IDs]\n",
    "        return pubmed_id\n",
    "    else:\n",
    "        print(\"Failed to fetch IDs:\", r.status_code)\n",
    "        return []"
   ]
  },
  {
   "cell_type": "code",
   "execution_count": 3,
   "metadata": {},
   "outputs": [],
   "source": [
    "def getText(nodelist):\n",
    "    rc = []\n",
    "    for node in nodelist:\n",
    "        if node.nodeType == node.TEXT_NODE:\n",
    "            rc.append(node.data)\n",
    "        else:\n",
    "            rc.append(getText(node.childNodes))\n",
    "    return ''.join(rc)"
   ]
  },
  {
   "cell_type": "code",
   "execution_count": 4,
   "metadata": {},
   "outputs": [],
   "source": [
    "def get_metadata(id_list, query_term):\n",
    "    metadata_dict = {}\n",
    "    if id_list:\n",
    "        r = requests.post(\n",
    "            \"https://eutils.ncbi.nlm.nih.gov/entrez/eutils/efetch.fcgi\",\n",
    "            data={\n",
    "                \"db\": \"pubmed\",\n",
    "                \"retmode\": \"xml\",\n",
    "                \"id\": \",\".join(id_list)\n",
    "            }\n",
    "        )\n",
    "        time.sleep(1)\n",
    "        if r.status_code == 200:\n",
    "            doc = m.parseString(r.text)\n",
    "            articles = doc.getElementsByTagName(\"PubmedArticle\")\n",
    "            for article, pubmed_id in zip(articles, id_list):\n",
    "                title_node = article.getElementsByTagName(\"ArticleTitle\")\n",
    "                abstract_nodes = article.getElementsByTagName(\"AbstractText\")\n",
    "                title = getText(title_node[0].childNodes) if title_node else \"N/A\"\n",
    "                abstract = \" \".join(getText(abstract_node.childNodes) for abstract_node in abstract_nodes) if abstract_nodes else \"N/A\"\n",
    "                metadata_dict[pubmed_id] = {\n",
    "                    \"ArticleTitle\": title,\n",
    "                    \"AbstractText\": abstract,\n",
    "                    \"query\": query_term\n",
    "                }\n",
    "        else:\n",
    "            print(\"Failed to fetch metadata:\", r.status_code)\n",
    "    return metadata_dict"
   ]
  },
  {
   "cell_type": "code",
   "execution_count": 5,
   "metadata": {},
   "outputs": [
    {
     "name": "stdout",
     "output_type": "stream",
     "text": [
      "Common IDs: ['37895928', '37897137', '37895969', '37901920', '37902389', '37899058']\n",
      "Metadata saved to 'metadata.json'\n"
     ]
    }
   ],
   "source": [
    "if __name__ == \"__main__\":\n",
    "    Alzheimers_id = get_id(\"Alzheimers\")\n",
    "    Cancer_id = get_id(\"cancer\")\n",
    "\n",
    "    common_ids = list(set(Alzheimers_id) & set(Cancer_id))\n",
    "    print(\"Common IDs:\", common_ids)\n",
    "\n",
    "    Alzheimers_metadata = get_metadata(Alzheimers_id, \"Alzheimers\")\n",
    "    Cancer_metadata = get_metadata(Cancer_id, \"cancer\")\n",
    "\n",
    "    all_metadata = {**Alzheimers_metadata, **Cancer_metadata}\n",
    "    with open('metadata.json', 'w') as f:\n",
    "        json.dump(all_metadata, f, indent=4)\n",
    "    print(\"Metadata saved to 'metadata.json'\")"
   ]
  },
  {
   "cell_type": "markdown",
   "metadata": {},
   "source": [
    "I identifies that there is some overlap between the two sets of papers (Alzheimer's and cancer papers) as `common_ids`\n",
    "\n",
    "### Regarding the handling of multiple AbstractText fields:\n",
    "**Concatenating with a Space**: This is a straightforward approach and makes it easy to read and process the abstract as a single string later. However, it might not preserve the structure of the original abstract, which could be important for understanding the flow or sections of the abstract."
   ]
  }
 ],
 "metadata": {
  "kernelspec": {
   "display_name": "Python 3",
   "language": "python",
   "name": "python3"
  },
  "language_info": {
   "codemirror_mode": {
    "name": "ipython",
    "version": 3
   },
   "file_extension": ".py",
   "mimetype": "text/x-python",
   "name": "python",
   "nbconvert_exporter": "python",
   "pygments_lexer": "ipython3",
   "version": "3.8.5"
  }
 },
 "nbformat": 4,
 "nbformat_minor": 4
}
