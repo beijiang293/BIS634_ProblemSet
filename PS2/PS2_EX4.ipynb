{
 "cells": [
  {
   "cell_type": "markdown",
   "metadata": {},
   "source": [
    "# Exercise 4"
   ]
  },
  {
   "cell_type": "markdown",
   "metadata": {},
   "source": [
    "## Dataset: **MIMIC-III** (Medical Information Mart for Intensive Care III)\n",
    "\n",
    "1. **What is the data about?**\n",
    "    - The MIMIC-III dataset comprises de-identified health data associated with ~40,000 critical care patients. It includes demographics, vital signs, laboratory tests, medications, and more. The chosen data represent hospital admissions records. Each row provides details of an admission event for a patient.\n",
    "\n",
    "- **row_id**: A unique identifier for the row.\n",
    "- **subject_id**: A unique identifier representing a patient.\n",
    "- **hadm_id**: Hospital admission ID.\n",
    "- **admittime** and **dischtime**: The timestamp of when the patient was admitted to and discharged from the hospital, respectively.\n",
    "- **deathtime**: The timestamp indicating the time of death, if applicable.\n",
    "- **admission_type**: The type of admission, e.g., EMERGENCY.\n",
    "- **admission_location** and **discharge_location**: Location details regarding where the patient was admitted from and discharged to.\n",
    "- **insurance**: The insurance type of the patient.\n",
    "- **language**: Patient's language preference.\n",
    "- **religion**: Patient's religion.\n",
    "- **marital_status**: Marital status of the patient.\n",
    "- **ethnicity**: Ethnic background of the patient.\n",
    "- **edregtime** and **edouttime**: Registration and out time for emergency department, if applicable.\n",
    "- **diagnosis**: Diagnosis given during that particular admission.\n",
    "- **hospital_expire_flag**: A binary flag indicating if the patient died during the hospital stay.\n",
    "- **has_chartevents_data**: Indicates if chart events data is available for the admission.\n",
    "\n",
    "2. **Where did you find it?**\n",
    "    - The MIMIC-III Clinical Database is available on PhysioNet (doi:[ 10.13026/C2XW26](http://dx.doi.org/10.13026/C2XW26)). PhysioNet provides open access to a wide range of biomedical datasets.\n",
    "\n",
    "3. **What license was specified?**\n",
    "    - The dataset is publicly available but requires researchers to sign a data use agreement due to the sensitive nature of medical data. It is released under the [Health Insurance Portability and Accountability Act (HIPAA)](https://www.hhs.gov/hipaa/index.html).\n",
    "\n",
    "4. **Why do you think it is interesting?**\n",
    "    - Healthcare analytics is at the forefront of AI research, given its profound impact on society. The MIMIC-III dataset provides a comprehensive view of patient care in critical care units, allowing for exploratory data analysis, predictive modeling, and potential AI-driven insights that can revolutionize ICU patient care.\n",
    "\n",
    "5. **Two questions you could explore with this data:**\n",
    "   1. **Patient Demographics and Hospital Outcomes**:\n",
    "   - How do patient outcomes (e.g., mortality as indicated by the `hospital_expire_flag`) vary across different ethnicities or marital statuses? Is there a particular group that has a higher risk?\n",
    "\n",
    "   2. **Admission Types and Length of Hospital Stay**:\n",
    "   - For each type of `admission_type`, what is the average duration of the hospital stay? Is there a noticeable difference in stay duration between emergency and elective admissions?"
   ]
  },
  {
   "cell_type": "code",
   "execution_count": 110,
   "metadata": {},
   "outputs": [
    {
     "name": "stdout",
     "output_type": "stream",
     "text": [
      "   row_id  subject_id  hadm_id            admittime            dischtime  \\\n",
      "0   12258       10006   142345  2164-10-23 21:09:00  2164-11-01 17:15:00   \n",
      "1   12263       10011   105331  2126-08-14 22:32:00  2126-08-28 18:59:00   \n",
      "2   12265       10013   165520  2125-10-04 23:36:00  2125-10-07 15:13:00   \n",
      "3   12269       10017   199207  2149-05-26 17:19:00  2149-06-03 18:42:00   \n",
      "4   12270       10019   177759  2163-05-14 20:43:00  2163-05-15 12:00:00   \n",
      "\n",
      "             deathtime admission_type         admission_location  \\\n",
      "0                  NaN      EMERGENCY       EMERGENCY ROOM ADMIT   \n",
      "1  2126-08-28 18:59:00      EMERGENCY  TRANSFER FROM HOSP/EXTRAM   \n",
      "2  2125-10-07 15:13:00      EMERGENCY  TRANSFER FROM HOSP/EXTRAM   \n",
      "3                  NaN      EMERGENCY       EMERGENCY ROOM ADMIT   \n",
      "4  2163-05-15 12:00:00      EMERGENCY  TRANSFER FROM HOSP/EXTRAM   \n",
      "\n",
      "  discharge_location insurance language  religion marital_status  \\\n",
      "0   HOME HEALTH CARE  Medicare      NaN  CATHOLIC      SEPARATED   \n",
      "1       DEAD/EXPIRED   Private      NaN  CATHOLIC         SINGLE   \n",
      "2       DEAD/EXPIRED  Medicare      NaN  CATHOLIC            NaN   \n",
      "3                SNF  Medicare      NaN  CATHOLIC       DIVORCED   \n",
      "4       DEAD/EXPIRED  Medicare      NaN  CATHOLIC       DIVORCED   \n",
      "\n",
      "                ethnicity            edregtime            edouttime  \\\n",
      "0  BLACK/AFRICAN AMERICAN  2164-10-23 16:43:00  2164-10-23 23:00:00   \n",
      "1   UNKNOWN/NOT SPECIFIED                  NaN                  NaN   \n",
      "2   UNKNOWN/NOT SPECIFIED                  NaN                  NaN   \n",
      "3                   WHITE  2149-05-26 12:08:00  2149-05-26 19:45:00   \n",
      "4                   WHITE                  NaN                  NaN   \n",
      "\n",
      "             diagnosis  hospital_expire_flag  has_chartevents_data  \n",
      "0               SEPSIS                     0                     1  \n",
      "1          HEPATITIS B                     1                     1  \n",
      "2               SEPSIS                     1                     1  \n",
      "3     HUMERAL FRACTURE                     0                     1  \n",
      "4  ALCOHOLIC HEPATITIS                     1                     1  \n"
     ]
    }
   ],
   "source": [
    "import pandas as pd\n",
    "\n",
    "# Load the dataset into a pandas DataFrame\n",
    "admissions_df = pd.read_csv('ADMISSIONS.csv')\n",
    "\n",
    "# Display the first few rows of the dataset to verify it loaded correctly\n",
    "print(admissions_df.head())"
   ]
  }
 ],
 "metadata": {
  "kernelspec": {
   "display_name": "Python 3",
   "language": "python",
   "name": "python3"
  },
  "language_info": {
   "codemirror_mode": {
    "name": "ipython",
    "version": 3
   },
   "file_extension": ".py",
   "mimetype": "text/x-python",
   "name": "python",
   "nbconvert_exporter": "python",
   "pygments_lexer": "ipython3",
   "version": "3.8.5"
  }
 },
 "nbformat": 4,
 "nbformat_minor": 4
}
