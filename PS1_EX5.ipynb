{
 "cells": [
  {
   "cell_type": "markdown",
   "metadata": {},
   "source": [
    "# Exercise 5"
   ]
  },
  {
   "cell_type": "markdown",
   "metadata": {},
   "source": [
    "## Parsing MeSH Data (`desc2023.xml`)\n",
    "\n",
    "We aim to extract the `DescriptorName` associated with the `DescriptorUI` `D007154` from the MeSH XML data.\n",
    "\n",
    "### Steps:\n",
    "1. Download the `desc2023.xml` file from the provided URL.\n",
    "2. Read the XML file using the `xml.etree.ElementTree` module in Python.\n",
    "3. Traverse the XML tree to identify the `DescriptorUI` with value `D007154`.\n",
    "4. Extract and display the associated `DescriptorName`.\n",
    "\n",
    "### Python Code Implementation:"
   ]
  },
  {
   "cell_type": "code",
   "execution_count": 36,
   "metadata": {},
   "outputs": [
    {
     "data": {
      "text/plain": [
       "('desc2023.xml', <http.client.HTTPMessage at 0x7f9f09aaf8b0>)"
      ]
     },
     "execution_count": 36,
     "metadata": {},
     "output_type": "execute_result"
    }
   ],
   "source": [
    "import urllib.request\n",
    "import xml.etree.ElementTree as ET\n",
    "\n",
    "# Download the XML file\n",
    "url = \"https://nlmpubs.nlm.nih.gov/projects/mesh/MESH_FILES/xmlmesh/desc2023.xml\"\n",
    "urllib.request.urlretrieve(url, \"desc2023.xml\")"
   ]
  },
  {
   "cell_type": "code",
   "execution_count": 37,
   "metadata": {},
   "outputs": [],
   "source": [
    "def get_descriptor_name(file_name, descriptor_ui):\n",
    "    tree = ET.parse(file_name)\n",
    "    root = tree.getroot()\n",
    "\n",
    "    # Traverse the XML tree to find the desired DescriptorUI\n",
    "    for descriptor in root.findall('DescriptorRecord'):\n",
    "        ui = descriptor.find('DescriptorUI')\n",
    "        if ui is not None and ui.text == descriptor_ui:\n",
    "            descriptor_name = descriptor.find('DescriptorName').find('String')\n",
    "            return descriptor_name.text\n",
    "    return None"
   ]
  },
  {
   "cell_type": "code",
   "execution_count": 38,
   "metadata": {},
   "outputs": [],
   "source": [
    "descriptor_ui_to_search = \"D007154\"\n",
    "name = get_descriptor_name(\"desc2023.xml\", descriptor_ui_to_search)"
   ]
  },
  {
   "cell_type": "code",
   "execution_count": 39,
   "metadata": {},
   "outputs": [
    {
     "name": "stdout",
     "output_type": "stream",
     "text": [
      "The DescriptorName associated with DescriptorUI D007154 is: Immune System Diseases\n"
     ]
    }
   ],
   "source": [
    "if name:\n",
    "    print(f\"The DescriptorName associated with DescriptorUI {descriptor_ui_to_search} is: {name}\")\n",
    "else:\n",
    "    print(f\"No DescriptorName found for DescriptorUI {descriptor_ui_to_search}\")"
   ]
  },
  {
   "cell_type": "markdown",
   "metadata": {},
   "source": [
    "## Finding DescriptorUI for a Given DescriptorName\n",
    "We aim to extract the `DescriptorUI` (MeSH Unique ID) associated with the `DescriptorName` \"Nervous System Diseases\" from the MeSH XML data."
   ]
  },
  {
   "cell_type": "code",
   "execution_count": 40,
   "metadata": {},
   "outputs": [],
   "source": [
    "def get_descriptor_ui(file_name, descriptor_name_target):\n",
    "    tree = ET.parse(file_name)\n",
    "    root = tree.getroot()\n",
    "\n",
    "    # Traverse the XML tree to find the desired DescriptorName\n",
    "    for descriptor in root.findall('DescriptorRecord'):\n",
    "        descriptor_name = descriptor.find('DescriptorName').find('String')\n",
    "        if descriptor_name is not None and descriptor_name.text == descriptor_name_target:\n",
    "            ui = descriptor.find('DescriptorUI')\n",
    "            return ui.text\n",
    "    return None"
   ]
  },
  {
   "cell_type": "code",
   "execution_count": 41,
   "metadata": {},
   "outputs": [],
   "source": [
    "descriptor_name_to_search = \"Nervous System Diseases\"\n",
    "ui = get_descriptor_ui(\"desc2023.xml\", descriptor_name_to_search)"
   ]
  },
  {
   "cell_type": "code",
   "execution_count": 42,
   "metadata": {},
   "outputs": [
    {
     "name": "stdout",
     "output_type": "stream",
     "text": [
      "The DescriptorUI associated with DescriptorName \"Nervous System Diseases\" is: D009422\n"
     ]
    }
   ],
   "source": [
    "if ui:\n",
    "    print(f\"The DescriptorUI associated with DescriptorName \\\"{descriptor_name_to_search}\\\" is: {ui}\")\n",
    "else:\n",
    "    print(f\"No DescriptorUI found for DescriptorName \\\"{descriptor_name_to_search}\\\"\")"
   ]
  },
  {
   "cell_type": "markdown",
   "metadata": {},
   "source": [
    "## Extracting DescriptorNames of Common Descendants in MeSH Data\n",
    "\n",
    "Our goal is to find `DescriptorNames` in the MeSH hierarchy that are descendants of both \"Nervous System Diseases\" and `D007154`. The relationship between terms is determined by their `TreeNumber`, with descendants having extended `TreeNumber` values.\n",
    "\n",
    "### Steps:\n",
    "1. Extract the `TreeNumber` for both \"Nervous System Diseases\" and `D007154`.\n",
    "2. Traverse the XML to find descendants (based on `TreeNumber`) for both terms.\n",
    "3. Determine common descendants by intersecting both lists.\n"
   ]
  },
  {
   "cell_type": "code",
   "execution_count": 43,
   "metadata": {},
   "outputs": [],
   "source": [
    "def get_tree_numbers_for_descriptor(file_name, descriptor_ui=None, descriptor_name=None):\n",
    "    tree = ET.parse(file_name)\n",
    "    root = tree.getroot()\n",
    "    tree_numbers = set()\n",
    "\n",
    "    for descriptor in root.findall('DescriptorRecord'):\n",
    "        ui = descriptor.find('DescriptorUI').text\n",
    "        name = descriptor.find('DescriptorName').find('String').text\n",
    "        \n",
    "        if (descriptor_ui and descriptor_ui == ui) or (descriptor_name and descriptor_name == name):\n",
    "            for tree_number_element in descriptor.findall('TreeNumberList/TreeNumber'):\n",
    "                tree_numbers.add(tree_number_element.text)\n",
    "\n",
    "    return tree_numbers"
   ]
  },
  {
   "cell_type": "code",
   "execution_count": 44,
   "metadata": {},
   "outputs": [],
   "source": [
    "def get_descendant_names(file_name, tree_numbers):\n",
    "    tree = ET.parse(file_name)\n",
    "    root = tree.getroot()\n",
    "    names = set()\n",
    "\n",
    "    for descriptor in root.findall('DescriptorRecord'):\n",
    "        for tree_number_element in descriptor.findall('TreeNumberList/TreeNumber'):\n",
    "            for target_tree_number in tree_numbers:\n",
    "                if tree_number_element.text.startswith(target_tree_number):\n",
    "                    names.add(descriptor.find('DescriptorName').find('String').text)\n",
    "                    \n",
    "    return names"
   ]
  },
  {
   "cell_type": "code",
   "execution_count": 49,
   "metadata": {},
   "outputs": [
    {
     "name": "stdout",
     "output_type": "stream",
     "text": [
      "{'C10'}\n",
      "{'C20'}\n"
     ]
    }
   ],
   "source": [
    "tree_numbers_nervous = get_tree_numbers_for_descriptor(\"desc2023.xml\", descriptor_name=\"Nervous System Diseases\")\n",
    "tree_numbers_d007154 = get_tree_numbers_for_descriptor(\"desc2023.xml\", descriptor_ui=\"D007154\")\n",
    "print(tree_numbers_nervous)\n",
    "print(tree_numbers_d007154)"
   ]
  },
  {
   "cell_type": "markdown",
   "metadata": {},
   "source": [
    "The MeSH tree number of \"Nervous System Diseases\" and D007154 are “C10” and “C20” respectively."
   ]
  },
  {
   "cell_type": "code",
   "execution_count": 46,
   "metadata": {},
   "outputs": [],
   "source": [
    "descendant_names_nervous = get_descendant_names(\"desc2023.xml\", tree_numbers_nervous)\n",
    "descendant_names_d007154 = get_descendant_names(\"desc2023.xml\", tree_numbers_d007154)"
   ]
  },
  {
   "cell_type": "code",
   "execution_count": 47,
   "metadata": {},
   "outputs": [
    {
     "name": "stdout",
     "output_type": "stream",
     "text": [
      "{'Multiple Sclerosis', 'Autoimmune Diseases of the Nervous System', 'Multiple Sclerosis, Relapsing-Remitting', 'Anti-N-Methyl-D-Aspartate Receptor Encephalitis', 'AIDS Dementia Complex', 'Giant Cell Arteritis', 'Encephalomyelitis, Acute Disseminated', 'Myelitis, Transverse', 'Multiple Sclerosis, Chronic Progressive', 'Encephalomyelitis, Autoimmune, Experimental', 'Demyelinating Autoimmune Diseases, CNS', 'AIDS Arteritis, Central Nervous System', 'Myasthenia Gravis, Neonatal', 'Myasthenia Gravis', 'Myasthenia Gravis, Autoimmune, Experimental', 'Nervous System Autoimmune Disease, Experimental', 'Lambert-Eaton Myasthenic Syndrome', 'POEMS Syndrome', 'Uveomeningoencephalitic Syndrome', 'Leukoencephalitis, Acute Hemorrhagic', 'Kernicterus', 'Polyradiculoneuropathy', 'Ataxia Telangiectasia', 'Guillain-Barre Syndrome', 'Vasculitis, Central Nervous System', 'Diffuse Cerebral Sclerosis of Schilder', 'Microscopic Polyangiitis', 'Autoimmune Hypophysitis', 'Mevalonate Kinase Deficiency', 'Stiff-Person Syndrome', 'Miller Fisher Syndrome', 'Neuromyelitis Optica', 'Lupus Vasculitis, Central Nervous System', 'Polyradiculoneuropathy, Chronic Inflammatory Demyelinating', 'Neuritis, Autoimmune, Experimental'}\n"
     ]
    }
   ],
   "source": [
    "# Find intersection of the two sets to get common descendants\n",
    "common_descendants = descendant_names_nervous.intersection(descendant_names_d007154)\n",
    "\n",
    "print(common_descendants)"
   ]
  },
  {
   "cell_type": "markdown",
   "metadata": {},
   "source": [
    "## Retrieved Results Overview\n",
    "\n",
    "The results obtained point towards conditions that span the intricacies of both the **immune** and **nervous systems**. These conditions can be categorized as follows:\n",
    "\n",
    "- **Autoimmune Disorders Affecting the Nervous System**: Conditions where the body's immune response mistakenly targets and damages its own nervous system. Examples include:\n",
    "  - Multiple Sclerosis\n",
    "  - Miller Fisher Syndrome\n",
    "\n",
    "- **Nervous System Inflammatory Conditions**: Diseases characterized by inflammation predominantly within the nervous system. An example is:\n",
    "  - Transverse Myelitis\n",
    "\n",
    "- **Immune Hemolytic Diseases Leading to Neurological Impairment**: Diseases where an immune response against certain blood components causes neurological issues. An example is:\n",
    "  - Kernicterus\n",
    "\n",
    "- **Hereditary Disorders Impacting Both Systems**: These are genetically inherited conditions that manifest symptoms in both the immune and nervous systems. For instance:\n",
    "  - Ataxia Telangiectasia\n",
    "\n",
    "- **Neurological Manifestations from Severe Infections**: Some infections, when severe, can have pronounced neurological symptoms. A notable example is:\n",
    "  - AIDS Dementia Complex: This results from an advanced HIV infection primarily affecting the brain."
   ]
  }
 ],
 "metadata": {
  "kernelspec": {
   "display_name": "Python 3",
   "language": "python",
   "name": "python3"
  },
  "language_info": {
   "codemirror_mode": {
    "name": "ipython",
    "version": 3
   },
   "file_extension": ".py",
   "mimetype": "text/x-python",
   "name": "python",
   "nbconvert_exporter": "python",
   "pygments_lexer": "ipython3",
   "version": "3.8.5"
  }
 },
 "nbformat": 4,
 "nbformat_minor": 4
}
