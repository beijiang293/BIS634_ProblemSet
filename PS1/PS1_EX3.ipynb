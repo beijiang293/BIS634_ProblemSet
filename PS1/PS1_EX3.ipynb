{
 "cells": [
  {
   "cell_type": "markdown",
   "metadata": {},
   "source": [
    "# Exercise 3"
   ]
  },
  {
   "cell_type": "code",
   "execution_count": 18,
   "metadata": {},
   "outputs": [],
   "source": [
    "def administer_meds(delta_t, tstop):\n",
    "    t = 0\n",
    "    while t < tstop:\n",
    "        print(f\"Administering meds at t={t}\")\n",
    "        t += delta_t"
   ]
  },
  {
   "cell_type": "markdown",
   "metadata": {},
   "source": [
    "## `administer_meds` Function Explanation\n",
    "\n",
    "### Function Logic:\n",
    "\n",
    "1. **Initialization**: The function initializes a time counter, `t`, set to 0, likely representing the starting time.\n",
    "  \n",
    "2. **Loop**: A `while` loop is used, which continues to execute as long as the current time `t` is less than the stopping time `tstop`.\n",
    "   \n",
    "3. **Administering Meds**: Within the loop, a print statement simulates the action of administering the medication at the current time `t`.\n",
    "\n",
    "4. **Time Update**: After the simulated administration, the time `t` is incremented by `delta_t`, updating the time for the next dose.\n",
    "\n",
    "### Relationships:\n",
    "\n",
    "- **tstop**: This represents the total time for which the meds need to be administered.\n",
    "  \n",
    "- **delta_t**: Represents the time gap between two consecutive doses.\n",
    "  \n",
    "- **Number of doses**: The total number of doses given is approximately `tstop / delta_t` (assuming `tstop` is a multiple of `delta_t`).\n",
    "\n",
    "For example, if the medication needs to be administered over 5 hours (`tstop=5`) with an interval of 1 hour (`delta_t=1`), then the medication will be administered 5 times in total.\n",
    "\n",
    "### Summary:\n",
    "\n",
    "In essence, the function simulates the periodic administration of medication at intervals of `delta_t` until the duration of `tstop` is reached. The total number of doses administered depends on the ratio of `tstop` to `delta_t`.\n"
   ]
  },
  {
   "cell_type": "markdown",
   "metadata": {},
   "source": [
    "### Execution Results:\n",
    "\n",
    "1. **For `administer_meds(0.25, 1)`**: \n",
    "   \n",
    "   Expectation: 4 doses at times: t=0, 0.25, 0.5, and 0.75."
   ]
  },
  {
   "cell_type": "code",
   "execution_count": 19,
   "metadata": {},
   "outputs": [
    {
     "name": "stdout",
     "output_type": "stream",
     "text": [
      "Administering meds at t=0\n",
      "Administering meds at t=0.25\n",
      "Administering meds at t=0.5\n",
      "Administering meds at t=0.75\n"
     ]
    }
   ],
   "source": [
    "administer_meds(0.25, 1)"
   ]
  },
  {
   "cell_type": "markdown",
   "metadata": {},
   "source": [
    "2. **For `administer_meds(0.1, 1)`**: \n",
    "\n",
    "   Expectation: 10 doses at times: t=0, 0.1, 0.2, ... up to 0.9."
   ]
  },
  {
   "cell_type": "code",
   "execution_count": 20,
   "metadata": {},
   "outputs": [
    {
     "name": "stdout",
     "output_type": "stream",
     "text": [
      "Administering meds at t=0\n",
      "Administering meds at t=0.1\n",
      "Administering meds at t=0.2\n",
      "Administering meds at t=0.30000000000000004\n",
      "Administering meds at t=0.4\n",
      "Administering meds at t=0.5\n",
      "Administering meds at t=0.6\n",
      "Administering meds at t=0.7\n",
      "Administering meds at t=0.7999999999999999\n",
      "Administering meds at t=0.8999999999999999\n",
      "Administering meds at t=0.9999999999999999\n"
     ]
    }
   ],
   "source": [
    "administer_meds(0.1, 1)"
   ]
  },
  {
   "cell_type": "markdown",
   "metadata": {},
   "source": [
    "### Findings:\n",
    "While the logic seems straightforward, the use of floating-point arithmetic can lead to unexpected results due to precision errors in computers. Such errors can manifest when you're repeatedly adding small decimals or when the division isn't exact in binary representation.\n",
    "\n",
    "In the first case, you would likely get exactly what you expect. In the second case, as you approach the value of **`tstop`**, you might encounter precision issues with the floating point addition.\n",
    "\n",
    "**Clinical Significance**:\n",
    "While seemingly minor, such discrepancies in a medical setting can be very significant. If we are off by even one iteration, a patient could receive one less or one more dose than intended. Depending on the medication and condition, this could have no significant impact, or it could be potentially harmful."
   ]
  },
  {
   "cell_type": "markdown",
   "metadata": {},
   "source": [
    "### Solution Without Surprises:\n",
    "One way to address this issue is by using a loop based on the number of doses rather than the continuous addition of floating point numbers:"
   ]
  },
  {
   "cell_type": "code",
   "execution_count": 21,
   "metadata": {},
   "outputs": [],
   "source": [
    "def administer_meds(delta_t, tstop):\n",
    "    num_doses = int(tstop / delta_t)\n",
    "    for i in range(num_doses):\n",
    "        t = i * delta_t\n",
    "        print(f\"Administering meds at t={t}\")"
   ]
  },
  {
   "cell_type": "markdown",
   "metadata": {},
   "source": [
    "By iterating over the number of doses, you ensure that the exact number of doses is administered without the potential surprises introduced by floating-point arithmetic."
   ]
  }
 ],
 "metadata": {
  "kernelspec": {
   "display_name": "Python 3",
   "language": "python",
   "name": "python3"
  },
  "language_info": {
   "codemirror_mode": {
    "name": "ipython",
    "version": 3
   },
   "file_extension": ".py",
   "mimetype": "text/x-python",
   "name": "python",
   "nbconvert_exporter": "python",
   "pygments_lexer": "ipython3",
   "version": "3.8.5"
  }
 },
 "nbformat": 4,
 "nbformat_minor": 4
}
