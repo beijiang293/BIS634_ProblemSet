{
 "cells": [
  {
   "cell_type": "markdown",
   "metadata": {},
   "source": [
    "# Exercise 1\n",
    "Write a function temp_tester that takes a definition of normal body temperature \n",
    "returns True if its argument is within 1 degree of normal temperature, and False if not "
   ]
  },
  {
   "cell_type": "code",
   "execution_count": 1,
   "metadata": {},
   "outputs": [],
   "source": [
    "def temp_tester(normal_temperature):\n",
    "    def is_within_one_degree(temp):\n",
    "        return abs(normal_temperature - temp) <= 1\n",
    "\n",
    "    return is_within_one_degree"
   ]
  },
  {
   "cell_type": "markdown",
   "metadata": {},
   "source": [
    "### Test code"
   ]
  },
  {
   "cell_type": "code",
   "execution_count": 3,
   "metadata": {},
   "outputs": [
    {
     "name": "stdout",
     "output_type": "stream",
     "text": [
      "True\n",
      "False\n",
      "False\n",
      "False\n",
      "False\n"
     ]
    }
   ],
   "source": [
    "human_tester = temp_tester(37)\n",
    "chicken_tester = temp_tester(41.1)\n",
    "\n",
    "print(chicken_tester(42)) # True -- i.e. not a fever for a chicken\n",
    "print(human_tester(42))   # False -- this would be a severe fever for a human\n",
    "print(chicken_tester(43)) # False\n",
    "print(human_tester(35))   # False -- too low\n",
    "print(human_tester(98.6)) # False -- normal in degrees F but our reference temp was in degrees C"
   ]
  }
 ],
 "metadata": {
  "kernelspec": {
   "display_name": "Python 3",
   "language": "python",
   "name": "python3"
  },
  "language_info": {
   "codemirror_mode": {
    "name": "ipython",
    "version": 3
   },
   "file_extension": ".py",
   "mimetype": "text/x-python",
   "name": "python",
   "nbconvert_exporter": "python",
   "pygments_lexer": "ipython3",
   "version": "3.8.5"
  }
 },
 "nbformat": 4,
 "nbformat_minor": 4
}
