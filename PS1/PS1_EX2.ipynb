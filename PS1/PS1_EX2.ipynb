{
 "cells": [
  {
   "cell_type": "markdown",
   "metadata": {},
   "source": [
    "# Exercise 2\n",
    "Quality scores are encoded such that higher scores correspond to characters with higher ASCII values."
   ]
  },
  {
   "cell_type": "code",
   "execution_count": 4,
   "metadata": {},
   "outputs": [],
   "source": [
    "def better_quality(char1, char2):\n",
    "    if ord(char1) > ord(char2):\n",
    "        return char1\n",
    "    elif ord(char1) < ord(char2):\n",
    "        return char2\n",
    "    else:\n",
    "        return None  # both characters have the same quality"
   ]
  },
  {
   "cell_type": "code",
   "execution_count": 5,
   "metadata": {},
   "outputs": [
    {
     "name": "stdout",
     "output_type": "stream",
     "text": [
      "B\n"
     ]
    }
   ],
   "source": [
    "# Test the function\n",
    "charA = 'A'\n",
    "charB = 'B'\n",
    "print(better_quality(charA, charB))  # This should print 'B' since it has a higher ASCII value than 'A'"
   ]
  },
  {
   "cell_type": "markdown",
   "metadata": {},
   "source": [
    "1. Convert each character in the string to its corresponding ASCII value (numeric quality score).\n",
    "2. Identify the maximum ASCII value (best quality) in the string.\n",
    "3. Compute the average ASCII value.\n",
    "4. Convert the average ASCII value back to its corresponding character (single-character quality score)"
   ]
  },
  {
   "cell_type": "code",
   "execution_count": 17,
   "metadata": {},
   "outputs": [
    {
     "name": "stdout",
     "output_type": "stream",
     "text": [
      "Best Quality: 70\n",
      "Average Quality (Numeric): 48.06666666666667\n",
      "Average Quality (Character): 0\n"
     ]
    }
   ],
   "source": [
    "def analyze_quality(quality_string):\n",
    "    if not quality_string:\n",
    "        raise ValueError(\"Input string is empty\")\n",
    "\n",
    "    # Convert each character to its corresponding ASCII value\n",
    "    numeric_scores = [ord(char) for char in quality_string]\n",
    "\n",
    "    # Calculate best and average quality scores\n",
    "    best_quality = max(numeric_scores)\n",
    "    avg_quality = sum(numeric_scores) / len(numeric_scores)\n",
    "\n",
    "    # Convert average score to its corresponding character\n",
    "    avg_char = chr(int(round(avg_quality)))\n",
    "\n",
    "    return best_quality, avg_quality, avg_char\n",
    "\n",
    "# Test the function\n",
    "test_string = \"!''*((((***+))%%%++)(%%%%).1***-+*''))**55CCF>>>>>>CCCCCCC65\"\n",
    "best_q, avg_q, avg_char = analyze_quality(test_string)\n",
    "print(f\"Best Quality: {best_q}\")\n",
    "print(f\"Average Quality (Numeric): {avg_q}\")\n",
    "print(f\"Average Quality (Character): {avg_char}\")"
   ]
  },
  {
   "cell_type": "markdown",
   "metadata": {},
   "source": [
    "### Choices & Discussion:\n",
    "\n",
    "Empty String Handling: If the input string is empty, the function raises a ValueError.\n",
    "Average Rounding: For the average score, I'm rounding to the nearest integer to get a valid character representation. This might slightly alter the true average, but it ensures we get a meaningful character representation.\n",
    "\n",
    "### Testing & Convincing Explanation:\n",
    "\n",
    "In the given test, the function will identify the character with the highest ASCII value as the best quality. The average score is computed by summing all the ASCII values and dividing by the length of the string. The average quality score as a character is derived by rounding the numeric average value and converting it back to a character."
   ]
  }
 ],
 "metadata": {
  "kernelspec": {
   "display_name": "Python 3",
   "language": "python",
   "name": "python3"
  },
  "language_info": {
   "codemirror_mode": {
    "name": "ipython",
    "version": 3
   },
   "file_extension": ".py",
   "mimetype": "text/x-python",
   "name": "python",
   "nbconvert_exporter": "python",
   "pygments_lexer": "ipython3",
   "version": "3.8.5"
  }
 },
 "nbformat": 4,
 "nbformat_minor": 4
}
